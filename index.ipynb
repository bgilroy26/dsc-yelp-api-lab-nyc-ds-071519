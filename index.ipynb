{
 "cells": [
  {
   "cell_type": "markdown",
   "metadata": {},
   "source": [
    "# Yelp API - Lab\n",
    "\n",
    "\n",
    "## Introduction \n",
    "\n",
    "Now that we've seen how the Yelp API works and some basic Folium visualizations, it's time to put those skills to work in order to create a working map! Taking things a step further, you'll also independently explore how to perform pagination in order to retrieve a full results set from the Yelp API!\n",
    "\n",
    "## Objectives\n",
    "\n",
    "You will be able to: \n",
    "* Create HTTP requests to get data from Yelp API\n",
    "* Parse HTTP responses and perform data analysis on the data returned\n",
    "* Perform pagination to retrieve troves of data!\n",
    "* Create a simple geographical system on to view information about selected businesses, at a given location. \n",
    "\n",
    "## Problem Introduction\n",
    "\n",
    "You've now worked with some API calls, but we have yet to see how to retrieve a more complete dataset in a programmatic manner. Returning to the Yelp API, the [documentation](https://www.yelp.com/developers/documentation/v3/business_search) also provides us details regarding the API limits. These often include details about the number of requests a user is allowed to make within a specified time limit and the maximum number of results to be returned. In this case, we are told that any request has a maximum of 50 results per request and defaults to 20. Furthermore, any search will be limited to a total of 1000 results. To retrieve all 1000 of these results, we would have to page through the results piece by piece, retrieving 50 at a time. Processes such as these are often referred to as pagination.\n",
    "\n",
    "In this lab, you will define a search and then paginate over the results to retrieve all of the results. You'll then parse these responses as a DataFrame (for further exploration) and create a map using Folium to visualize the results geographically.\n",
    "\n",
    "## Part I - Make the Initial Request\n",
    "\n",
    "Start by making an initial request to the Yelp API. Your search must include at least 2 parameters: **term** and **location**. For example, you might search for pizza restaurants in NYC. The term and location is up to you, but make the request below."
   ]
  },
  {
   "cell_type": "code",
   "execution_count": null,
   "metadata": {},
   "outputs": [],
   "source": [
    "import requests\n",
    "import sys\n",
    "import config\n",
    "import time\n",
    "import json\n",
    "import mysql.connector\n",
    "import pandas as pd\n",
    "import matplotlib as plt\n",
    "from mysql.connector import errorcode\n",
    "%load_ext autoreload\n",
    "\n",
    "%autoreload"
   ]
  },
  {
   "cell_type": "code",
   "execution_count": null,
   "metadata": {
    "scrolled": true
   },
   "outputs": [],
   "source": [
    "\n",
    "# Your code here; use a function or loop to retrieve all the results from your original request\n",
    "\n",
    "def yelp_review_call(api_key, biz_id):\n",
    "    url = f'https://api.yelp.com/v3/businesses/{biz_id}/reviews'\n",
    "    headers = {'Authorization': 'Bearer {}'.format(api_key)}\n",
    "    response = requests.get(url, headers=headers)\n",
    "    return response\n",
    "\n",
    "def yelp_call(url_params, api_key):\n",
    "    url = 'https://api.yelp.com/v3/businesses/search'\n",
    "    headers = {'Authorization': 'Bearer {}'.format(api_key)}\n",
    "    response = requests.get(url, headers=headers, params=url_params)\n",
    "    return response\n",
    "\n",
    "\n",
    "def get_businesses(url_params, api_key):\n",
    "    response = yelp_call(url_params, api_key)\n",
    "    print(response.json().keys())\n",
    "    if 'businesses' in response.json():\n",
    "        data = response.json()['businesses']\n",
    "    else:\n",
    "        raise KeyError\n",
    "    return data\n",
    "\n",
    "def all_results(url_params, api_key):\n",
    "    #declare url here\n",
    "    #NOTE refactor into Config later\n",
    "    response = yelp_call(url_params, api_key)\n",
    "    num = response.json()['total']\n",
    "    print('{} total matches found.'.format(num))\n",
    "    cur = 0\n",
    "    results = []\n",
    "    while cur < num and cur < 1000:\n",
    "        url_params['offset'] = cur\n",
    "        results.append(get_businesses(url_params, api_key))\n",
    "        time.sleep(.5) #Wait a second\n",
    "        cur += 50\n",
    "    return results\n",
    "\n",
    "term = 'bbq'\n",
    "location = 'Nashville TN'\n",
    "url_params = {  'term': term.replace(' ', '+'),\n",
    "                'location': location.replace(' ', '+'),\n",
    "                'limit' : 50\n",
    "             }\n",
    "df = all_results(url_params, config.api_key)\n",
    "\n",
    "\n",
    "print(len(df))"
   ]
  },
  {
   "cell_type": "code",
   "execution_count": null,
   "metadata": {},
   "outputs": [],
   "source": []
  },
  {
   "cell_type": "code",
   "execution_count": null,
   "metadata": {},
   "outputs": [],
   "source": [
    "biz_id = df[0][0][\"id\"]\n",
    "response = yelp_review_call(config.api_key, biz_id)"
   ]
  },
  {
   "cell_type": "code",
   "execution_count": null,
   "metadata": {},
   "outputs": [],
   "source": [
    "#method for connecting to yelp database, return tuple of cnx/c to avoid scoping\n",
    "def connect_to_yelp():\n",
    "    cnx = mysql.connector.connect(**config.config)\n",
    "    c = cnx.cursor()\n",
    "    statement = \"\"\"USE yelp\"\"\"\n",
    "    c.execute(statement)\n",
    "    return (c, cnx)\n",
    "    "
   ]
  },
  {
   "cell_type": "code",
   "execution_count": null,
   "metadata": {},
   "outputs": [],
   "source": [
    "test_id = df[0][0][\"id\"]\n",
    "response = yelp_review_call(config.api_key, test_id)"
   ]
  },
  {
   "cell_type": "code",
   "execution_count": null,
   "metadata": {},
   "outputs": [],
   "source": [
    "reviews = json.loads(response.text)\n",
    "reviews['reviews'][0]\n",
    "#time created, id, rating, {foregin key}"
   ]
  },
  {
   "cell_type": "code",
   "execution_count": null,
   "metadata": {},
   "outputs": [],
   "source": [
    "import pandas as pd\n",
    "import mysql.connector\n",
    "from mysql.connector import errorcode\n",
    "\n",
    "cnx = mysql.connector.connect(**config.config)\n",
    "c = cnx.cursor()\n",
    "\n",
    "c.execute(\"\"\"DROP DATABASE IF EXISTS yelp\"\"\")\n",
    "\n",
    "DB_NAME = 'yelp'\n",
    "\n",
    "def create_database(cursor):\n",
    "    \"\"\"Creates Database and Catch errors\"\"\"\n",
    "    try:\n",
    "        c.execute(\n",
    "            \"CREATE DATABASE {} DEFAULT CHARACTER SET 'utf8'\".format(DB_NAME))\n",
    "    except mysql.connector.Error as err:\n",
    "        print(\"Failed creating database: {}\".format(err))\n",
    "        exit(1)\n",
    "\n",
    "try:\n",
    "    c.execute(\"USE {}\".format(DB_NAME))\n",
    "except mysql.connector.Error as err:\n",
    "    print(\"Database {} does not exists.\".format(DB_NAME))\n",
    "    #if DB doesn't exist, create the databse for you\n",
    "    if err.errno == errorcode.ER_BAD_DB_ERROR:\n",
    "        create_database(c)\n",
    "        print(\"Database {} created successfully.\".format(DB_NAME))\n",
    "        cnx.database = DB_NAME\n",
    "    else:\n",
    "        print(err)\n",
    "        exit(1)\n",
    "\n",
    "        \n",
    "\n",
    "TABLES = {}\n",
    "TABLES['restaurants'] = \"\"\"\n",
    "        CREATE TABLE `restaurants` (\n",
    "           `restaurant_id` varchar(32) NOT NULL,\n",
    "           `name` TEXT NOT NULL,\n",
    "           `rating` DECIMAL(2,1),\n",
    "           `price` TEXT,\n",
    "           PRIMARY KEY(restaurant_id)\n",
    "        ) ENGINE=InnoDB\n",
    "        \"\"\"\n",
    "\n",
    "TABLES['reviews'] = \"\"\"\n",
    "        CREATE TABLE `reviews` (\n",
    "           `review_id` VARCHAR(32) NOT NULL,\n",
    "           `time_created` DATE NOT NULL,\n",
    "           `review_text` TINYTEXT,\n",
    "           `user_rating` DECIMAL(2,1),\n",
    "           `restaurant_id` VARCHAR(32),\n",
    "           PRIMARY KEY(review_id),\n",
    "           FOREIGN KEY(restaurant_id) REFERENCES restaurants(restaurant_id)\n",
    "        ) ENGINE=InnoDB\n",
    "        \"\"\"\n",
    "\n",
    "for table_name in TABLES:\n",
    "    create_table_script = TABLES[table_name]\n",
    "    try:\n",
    "        print(\"Creating table {}: \".format(table_name), end='')\n",
    "        c.execute(create_table_script)\n",
    "    except mysql.connector.Error as err:\n",
    "        if err.errno == errorcode.ER_TABLE_EXISTS_ERROR:\n",
    "            print(\"already exists.\")\n",
    "        else:\n",
    "            print(err.msg)\n",
    "    else:\n",
    "        print(\"OK\")\n",
    "c.close()\n",
    "cnx.close()\n",
    "\n",
    "\n"
   ]
  },
  {
   "cell_type": "code",
   "execution_count": null,
   "metadata": {},
   "outputs": [],
   "source": [
    "#returns true if all the necessary keys are in the restaurant dict\n",
    "def all_rest_elements(restaurant):\n",
    "    #this the way check if all vital keys in restaurant\n",
    "    if all (k in restaurant for k in (\"name\",\"id\", \"rating\", \"price\")):\n",
    "        if len(restaurant['price']) > 0:\n",
    "            return True\n",
    "    return False\n",
    "\n",
    "\n",
    "#same but for review\n",
    "def all_review_elements(review):\n",
    "    if all (k in review for k in (\"id\",\"restaurant_id\", \"rating\", \"time_created\")):\n",
    "        return True\n",
    "    else:\n",
    "        return False\n",
    "    \n"
   ]
  },
  {
   "cell_type": "code",
   "execution_count": null,
   "metadata": {},
   "outputs": [],
   "source": [
    "cnx = mysql.connector.connect(**config.config)\n",
    "c = cnx.cursor()\n",
    "\n",
    "c.execute(\"\"\"USE yelp\"\"\")\n",
    "def populate_businesses(df):\n",
    "\n",
    "#above should be an extra quote, jupyter broke\n",
    "    for load in df:\n",
    "        for restaurant in load:\n",
    "            if all_rest_elements(restaurant):\n",
    "                #assign ids before for formatting the sql statement\n",
    "                rest_id = restaurant['id']\n",
    "                name = restaurant['name']\n",
    "                rating = restaurant['rating']\n",
    "                price = restaurant['price']\n",
    "                #sql for inserting this restaurants\n",
    "                insert_str = f\"\"\"\n",
    "                    INSERT INTO restaurants\n",
    "                    (restaurant_id, name, rating, price) \n",
    "                    VALUES (\"{rest_id}\", \n",
    "                            \"{name}\", \n",
    "                            \"{rating}\", \n",
    "                            \"{price}\")\n",
    "                    \"\"\"    \n",
    "                #execute and save    \n",
    "                c.execute(insert_str)\n",
    "                cnx.commit()\n",
    "    #return dummy string\n",
    "    return \"Data Added\"\n",
    "    \n",
    "populate_businesses(df)\n",
    "cnx.close()"
   ]
  },
  {
   "cell_type": "code",
   "execution_count": null,
   "metadata": {},
   "outputs": [],
   "source": [
    "\n",
    "#use select to retrieve list of all business ids\n",
    "def get_all_biz_ids():\n",
    "    c, cnx = connect_to_yelp()\n",
    "    select_ids = \"\"\"SELECT restaurant_id\n",
    "                    FROM restaurants\"\"\"\n",
    "    c.execute(select_ids)\n",
    "    all_ids = c.fetchall()\n",
    "    return all_ids\n",
    "\n",
    "def add_biz_id(data, biz_id):\n",
    "    for review in data:\n",
    "        review[\"restaurant_id\"] = biz_id\n",
    "    #data will be edited, so just return data\n",
    "    return data\n",
    "\n",
    "#retrieves all reviews and puts them into json format\n",
    "def get_reviews(api_key):\n",
    "    all_biz_ids = get_all_biz_ids()\n",
    "    #initialize all_reviews for mapping\n",
    "    all_reviews = []\n",
    "    #go through each of the biz ids, get the data corresponding to it,\n",
    "    #and add the biz id for foreign key use later\n",
    "    for biz_id_tup in all_biz_ids:\n",
    "        biz_id = biz_id_tup[0]\n",
    "        #gets a dictionary from the API adding biz Id to the url\n",
    "        response = yelp_review_call(api_key, biz_id)\n",
    "        data = response.json()['reviews']\n",
    "        #add restaurant_id\n",
    "        data_with_biz = add_biz_id(data, biz_id)\n",
    "        all_reviews.extend(data_with_biz)\n",
    "    return all_reviews\n",
    "\n",
    "reviews = get_reviews(config.api_key)\n"
   ]
  },
  {
   "cell_type": "code",
   "execution_count": null,
   "metadata": {},
   "outputs": [],
   "source": [
    "reviews[4]"
   ]
  },
  {
   "cell_type": "code",
   "execution_count": null,
   "metadata": {},
   "outputs": [],
   "source": [
    "#some review text has quotes and was causing conflicts when adding to db\n",
    "#replace \" with \\\"\n",
    "def replace_quotes(text):\n",
    "    return text.replace(r'\"', r'\\\"')"
   ]
  },
  {
   "cell_type": "code",
   "execution_count": null,
   "metadata": {},
   "outputs": [],
   "source": [
    "c, cnx = connect_to_yelp()\n",
    "\n",
    "def populate_reviews(df):\n",
    "\n",
    "    for review in reviews:\n",
    "        if all_review_elements(review):\n",
    "            #assign ids before for formatting the sql statement\n",
    "            rev_id = review['id']\n",
    "            rest_id = review['restaurant_id']\n",
    "            time_stamp = review['time_created']\n",
    "            rev_rating = review['rating']\n",
    "            rev_text = replace_quotes(review['text'])\n",
    "            #sql for inserting this restaurants\n",
    "            insert_str = f\"\"\"\n",
    "                INSERT INTO reviews\n",
    "                (review_id, time_created, review_text, user_rating, restaurant_id) \n",
    "                VALUES (\"{rev_id}\", \n",
    "                        \"{time_stamp}\",\n",
    "                        \"{rev_text}\",\n",
    "                        \"{rev_rating}\", \n",
    "                        \"{rest_id}\")\n",
    "                \"\"\"    \n",
    "            #execute and save    \n",
    "            c.execute(insert_str)\n",
    "            cnx.commit()\n",
    "    #return dummy string\n",
    "    return \"Data Added\"\n",
    "    \n",
    "populate_reviews(reviews)\n",
    "cnx.close()\n"
   ]
  },
  {
   "cell_type": "markdown",
   "metadata": {},
   "source": [
    "## Pagination\n",
    "\n",
    "Now that you have an initial response, you can examine the contents of the json container. For example, you might start with ```response.json().keys()```. Here, you'll see a key for `'total'`, which tells you the full number of matching results given your query parameters. Write a loop (or ideally a function) which then makes successive API calls using the offset parameter to retrieve all of the results (or 5000 for a particularly large result set) for the original query. As you do this, be mindful of how you store the data. Your final goal will be to reformat the data concerning the businesses themselves into a pandas DataFrame from the json objects.\n",
    "\n",
    "**Note: be mindful of the API rate limits. You can only make 5000 requests per day, and are also can make requests too fast. Start prototyping small before running a loop that could be faulty. You can also use time.sleep(n) to add delays. For more details see https://www.yelp.com/developers/documentation/v3/rate_limiting.**"
   ]
  },
  {
   "cell_type": "code",
   "execution_count": null,
   "metadata": {},
   "outputs": [],
   "source": [
    "c, cnx = connect_to_yelp()\n",
    "def display_query(query):\n",
    "    c.execute(query)\n",
    "    df = pd.DataFrame(c.fetchall())\n",
    "    df.columns = [column[0] for column in c.description]\n",
    "    return df.head() \n",
    "\n",
    "\n",
    "def top_five():\n",
    "    top_five_query = \"\"\"SELECT name, rating\n",
    "                    FROM restaurants\n",
    "                    ORDER BY rating DESC\n",
    "                    LIMIT 5\"\"\"\n",
    "    return display_query(top_five_query)\n",
    "\n",
    "top_five()"
   ]
  },
  {
   "cell_type": "code",
   "execution_count": null,
   "metadata": {},
   "outputs": [],
   "source": [
    "# Your code here; use a function or loop to retrieve all the results from your original request\n",
    "def bottom_five():\n",
    "    bottom_five_query = \"\"\"SELECT name, rating\n",
    "                    FROM restaurants\n",
    "                    ORDER BY rating \n",
    "                    LIMIT 5\"\"\"\n",
    "    return display_query(bottom_five_query)\n",
    "\n",
    "bottom_five()"
   ]
  },
  {
   "cell_type": "code",
   "execution_count": null,
   "metadata": {},
   "outputs": [],
   "source": [
    "def rating_per_price():\n",
    "    average_query = \"\"\"SELECT price, ROUND(AVG(rating), 2) as average_rating\n",
    "                    FROM restaurants\n",
    "                    GROUP BY price\"\"\"\n",
    "    return display_query(average_query)\n",
    "\n",
    "rating_per_price()"
   ]
  },
  {
   "cell_type": "code",
   "execution_count": null,
   "metadata": {},
   "outputs": [],
   "source": [
    "def highly_rated_restaurants():\n",
    "    top_query = \"\"\"SELECT COUNT(*) AS top_rated\n",
    "                    FROM restaurants\n",
    "                    WHERE rating > 4.5\"\"\"\n",
    "    return display_query(top_query)\n",
    "\n",
    "highly_rated_restaurants()"
   ]
  },
  {
   "cell_type": "code",
   "execution_count": null,
   "metadata": {},
   "outputs": [],
   "source": [
    "def low_rated_restaurants():\n",
    "    bottom_query = \"\"\"SELECT COUNT(*) AS bottom_rated\n",
    "                        FROM restaurants\n",
    "                        WHERE rating < 3\"\"\"\n",
    "    return display_query(bottom_query)\n",
    "\n",
    "low_rated_restaurants()"
   ]
  },
  {
   "cell_type": "code",
   "execution_count": null,
   "metadata": {},
   "outputs": [],
   "source": [
    "def oldest_review():\n",
    "    oldest_query = \"\"\"SELECT review_text, time_created, user_rating\n",
    "                        FROM reviews\n",
    "                        ORDER BY time_created\n",
    "                        LIMIT 1\"\"\"\n",
    "    return display_query(oldest_query)\n",
    "\n",
    "oldest_review()"
   ]
  },
  {
   "cell_type": "code",
   "execution_count": null,
   "metadata": {
    "scrolled": true
   },
   "outputs": [],
   "source": [
    "def rating_for_old_review():\n",
    "    old_rating_query = \"\"\"SELECT name, time_created, rating\n",
    "                        FROM restaurants \n",
    "                        JOIN reviews\n",
    "                        ORDER BY time_created ASC\n",
    "                        LIMIT 1\"\"\"\n",
    "    return display_query(old_rating_query)\n",
    "\n",
    "rating_for_old_review()"
   ]
  },
  {
   "cell_type": "code",
   "execution_count": null,
   "metadata": {},
   "outputs": [],
   "source": [
    "def newest_review_for_best():\n",
    "    new_best_q = \"\"\"SELECT review_text, user_rating, time_created\n",
    "                    FROM reviews\n",
    "                    WHERE restaurant_id = (SELECT restaurant_id\n",
    "                                            FROM restaurants\n",
    "                                            ORDER BY rating DESC\n",
    "                                            LIMIT 1)                  \n",
    "                    ORDER BY time_created DESC\n",
    "                    LIMIT 1\"\"\"\n",
    "    return display_query(new_best_q)\n",
    "newest_review_for_best()"
   ]
  },
  {
   "cell_type": "code",
   "execution_count": null,
   "metadata": {},
   "outputs": [],
   "source": [
    "def oldest_review_for_worst():\n",
    "    old_worst_q = \"\"\"SELECT review_text, user_rating, time_created\n",
    "                    FROM reviews\n",
    "                    WHERE restaurant_id = (SELECT restaurant_id\n",
    "                                            FROM restaurants\n",
    "                                            ORDER BY rating\n",
    "                                            LIMIT 1)                  \n",
    "                    ORDER BY time_created\n",
    "                    LIMIT 1\"\"\"\n",
    "    return display_query(old_worst_q)\n",
    "oldest_review_for_worst()"
   ]
  },
  {
   "cell_type": "markdown",
   "metadata": {},
   "source": [
    "## Exploratory Analysis\n",
    "\n",
    "Take the restaurants from the previous question and do an initial exploratory analysis. At minimum, this should include looking at the distribution of features such as price, rating and number of reviews as well as the relations between these dimensions."
   ]
  },
  {
   "cell_type": "code",
   "execution_count": null,
   "metadata": {},
   "outputs": [],
   "source": [
    "def graph_price_count():\n",
    "    average_query = \"\"\"SELECT price, COUNT(*) AS total\n",
    "                    FROM restaurants\n",
    "                    GROUP BY price\"\"\"\n",
    "    return display_query(average_query)\n",
    "\n",
    "graph_price_count()"
   ]
  },
  {
   "cell_type": "markdown",
   "metadata": {},
   "source": [
    "## Mapping\n",
    "\n",
    "Look at the initial Yelp example and try and make a map using Folium of the restaurants you retrieved. Be sure to also add popups to the markers giving some basic information such as name, rating and price."
   ]
  },
  {
   "cell_type": "code",
   "execution_count": null,
   "metadata": {},
   "outputs": [],
   "source": [
    "#Your code here\n"
   ]
  },
  {
   "cell_type": "markdown",
   "metadata": {},
   "source": [
    "## Summary\n",
    "\n",
    "Nice work! In this lab, you synthesized your skills for the day, making multiple API calls to Yelp in order to paginate through a results set, performing some basic exploratory analysis and then creating a nice map visual to display the results! Well done!"
   ]
  },
  {
   "cell_type": "code",
   "execution_count": null,
   "metadata": {},
   "outputs": [],
   "source": []
  }
 ],
 "metadata": {
  "kernelspec": {
   "display_name": "Python 3",
   "language": "python",
   "name": "python3"
  },
  "language_info": {
   "codemirror_mode": {
    "name": "ipython",
    "version": 3
   },
   "file_extension": ".py",
   "mimetype": "text/x-python",
   "name": "python",
   "nbconvert_exporter": "python",
   "pygments_lexer": "ipython3",
   "version": "3.7.3"
  }
 },
 "nbformat": 4,
 "nbformat_minor": 2
}
